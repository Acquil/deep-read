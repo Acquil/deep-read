{
  "nbformat": 4,
  "nbformat_minor": 0,
  "metadata": {
    "orig_nbformat": 2,
    "kernelspec": {
      "name": "python3",
      "display_name": "Python 3"
    },
    "colab": {
      "name": "Copy of speech recognition.ipynb",
      "provenance": []
    }
  },
  "cells": [
    {
      "cell_type": "code",
      "metadata": {
        "tags": [],
        "id": "QsbwZTzq0azh",
        "outputId": "e9175b49-1cb9-48de-fc77-7ac265948bb2"
      },
      "source": [
        "print(\"Testing vosk api\")"
      ],
      "execution_count": null,
      "outputs": [
        {
          "output_type": "stream",
          "text": [
            "Testing vosk api\n"
          ],
          "name": "stdout"
        }
      ]
    },
    {
      "cell_type": "code",
      "metadata": {
        "id": "y1bA5E7P0ofK",
        "outputId": "efd60b6d-7e6b-47a6-92e8-71107b2fe671",
        "colab": {
          "base_uri": "https://localhost:8080/",
          "height": 109
        }
      },
      "source": [
        "%pip install vosk"
      ],
      "execution_count": null,
      "outputs": [
        {
          "output_type": "stream",
          "text": [
            "Collecting vosk\n",
            "\u001b[?25l  Downloading https://files.pythonhosted.org/packages/8f/42/3bf688d5345236ee623213bcc191b9cebc69594fff94296355881576f742/vosk-0.3.13-cp36-cp36m-manylinux2010_x86_64.whl (7.4MB)\n",
            "\u001b[K     |████████████████████████████████| 7.4MB 9.1MB/s \n",
            "\u001b[?25hInstalling collected packages: vosk\n",
            "Successfully installed vosk-0.3.13\n"
          ],
          "name": "stdout"
        }
      ]
    },
    {
      "cell_type": "code",
      "metadata": {
        "id": "vNVCO1Ci0az0"
      },
      "source": [
        "import vosk"
      ],
      "execution_count": null,
      "outputs": []
    }
  ]
}